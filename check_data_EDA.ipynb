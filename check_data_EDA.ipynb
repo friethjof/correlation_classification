{
 "cells": [
  {
   "cell_type": "markdown",
   "metadata": {},
   "source": [
    "# Collect data into a DataFrame"
   ]
  },
  {
   "cell_type": "code",
   "execution_count": 16,
   "metadata": {},
   "outputs": [],
   "source": [
    "import re\n",
    "from pathlib import Path\n",
    "\n",
    "import pandas as pd\n",
    "\n",
    "\n",
    "data_dir = Path('data')"
   ]
  },
  {
   "cell_type": "markdown",
   "metadata": {},
   "source": [
    "Data structure is as follows:"
   ]
  },
  {
   "cell_type": "raw",
   "metadata": {},
   "source": [
    "data\n",
    " |---- batch_001\n",
    " |         |--- run_0001\n",
    " |         |        |--- correlation_fct_BC.npz\n",
    " |         |         --- parameters.py\n",
    " |         |\n",
    " |         |--- run_0002\n",
    " |                  |--- correlation_fct_BC.npz\n",
    " |                   --- parameters.py\n",
    " |\n",
    " |---- batch_002\n",
    " |         |"
   ]
  },
  {
   "cell_type": "markdown",
   "metadata": {},
   "source": [
    " - iterate through batches and run-folders\n",
    " - extract gAA, gBB, gCC, gAB, gAC, gBC values from parameters.py files"
   ]
  },
  {
   "cell_type": "code",
   "execution_count": 32,
   "metadata": {},
   "outputs": [],
   "source": [
    "def replace_one_parameter_with_one_value(input_str, name, val):\n",
    "    \"\"\"Replace a parameter name with its value. Search for the name in the\n",
    "    string and replace it with a value. Ensure that 'name' is not part of\n",
    "    another parameter name by verfiying that the previous and next charachter\n",
    "    is either nothing or a special symbol, such as: ,+-/()....\"\"\"\n",
    "\n",
    "    special_symbol = ['.', '-', '+', '*', '/', '(', ')', '%', ' ', ',', ':']\n",
    "\n",
    "    # find all occurrences in val_string, but we want to replace only the first\n",
    "    # occurrence with its value, since the lengths of vals and pars might differ\n",
    "    for m in re.finditer(name, input_str):\n",
    "        # check if charachter before occurrence is a symbol (or empty)\n",
    "        if m.start() == 0 or (m.start() != 0 and\n",
    "            input_str[m.start() - 1] in special_symbol):\n",
    "            if m.end() == len(input_str) or (m.end() != len(input_str) and\n",
    "                input_str[m.end()] in special_symbol):\n",
    "                input_str = input_str[:m.start()] + f'({val})' + input_str[m.end():]\n",
    "                break\n",
    "    return input_str\n",
    "\n",
    "\n",
    "def replace_parameters(input_str, par_dict):\n",
    "    \"\"\"Iterate until input_str does not change anymore (like a while-loop),\n",
    "    It should be possible to treat cases like\n",
    "     gCC = -5.9\n",
    "     g = 2.0\n",
    "     a = 2\n",
    "     n = a*g\n",
    "     gAC_prop = g - gCC*math.sqrt(gCC/g**2) + int(g*n)\n",
    "    \"\"\"\n",
    "    for _ in range(1000):\n",
    "        input_str_old = input_str\n",
    "        for par_name, par_val in par_dict.items():\n",
    "            input_str = replace_one_parameter_with_one_value(\n",
    "                input_str, par_name, par_val)\n",
    "        if input_str_old == input_str:\n",
    "            break\n",
    "\n",
    "    return input_str\n",
    "\n",
    "\n",
    "def read_in_par(path_par_f, var_name):\n",
    "    \"\"\"Read in parameters.py file and extract requested variable.\n",
    "    \n",
    "    file structure:\n",
    "    X = 1 # description\n",
    "    Y = 2*X\n",
    "    \n",
    "    Args:\n",
    "        path_par_f (Path): Path of parameters.py file\n",
    "        var_name (str): name of parameter\n",
    "    \n",
    "    Return:\n",
    "        value of parameter.\n",
    "    \"\"\"\n",
    "\n",
    "    with open(path_par_f, 'r') as f:\n",
    "        temp_par_dict = {}  # collect all previously defined parameters\n",
    "        for line in f:\n",
    "            if '=' not in line:\n",
    "                continue\n",
    "            par_name_list = line.split('=')[0].split()\n",
    "            if '#' in par_name_list[0] or len(par_name_list) != 1:\n",
    "                continue\n",
    "            par_name = par_name_list[0]\n",
    "            val_list = line.split('=')[1]\n",
    "            if '#' in val_list:\n",
    "                temp_par_dict[par_name] = val_list.split('#')[0].strip()\n",
    "            else:\n",
    "                temp_par_dict[par_name] = val_list.strip()\n",
    "            if var_name in temp_par_dict.keys():\n",
    "                break\n",
    "\n",
    "    # evaluate string, if neccessary replace string with parameters\n",
    "    if var_name in temp_par_dict.keys():\n",
    "        val_string = temp_par_dict[var_name]\n",
    "        try:\n",
    "            return eval(val_string)\n",
    "        except:\n",
    "            pass\n",
    "        val_string = replace_parameters(val_string, temp_par_dict)\n",
    "        try:\n",
    "            return eval(val_string)\n",
    "        except:\n",
    "            return val_string\n",
    "    else:\n",
    "        return None\n",
    "\n",
    "    "
   ]
  },
  {
   "cell_type": "code",
   "execution_count": 40,
   "metadata": {},
   "outputs": [],
   "source": [
    "# initialize parameter dictionary\n",
    "par_dict = {\n",
    "    'gBB':[],\n",
    "    'gCC':[],\n",
    "    'gAB':[],\n",
    "    'gAC':[],\n",
    "    'gBC':[],\n",
    "    'path':[]\n",
    "}\n",
    "\n",
    "\n",
    "for batch_dir in sorted(data_dir.iterdir()):\n",
    "    \n",
    "    for run_dir in sorted(batch_dir.iterdir()):\n",
    "        \n",
    "        # get parameter values        \n",
    "        par_dict['gBB'].append(read_in_par(run_dir/'parameters.py', 'gBB'))\n",
    "        par_dict['gCC'].append(read_in_par(run_dir/'parameters.py', 'gCC'))\n",
    "        par_dict['gAB'].append(read_in_par(run_dir/'parameters.py', 'gAB'))\n",
    "        par_dict['gAC'].append(read_in_par(run_dir/'parameters.py', 'gAC'))\n",
    "        par_dict['gBC'].append(read_in_par(run_dir/'parameters.py', 'gBC'))\n",
    "\n",
    "        par_dict['path'].append(f'data/{batch_dir.name}/{run_dir.name}')\n",
    "\n"
   ]
  },
  {
   "cell_type": "code",
   "execution_count": 41,
   "metadata": {},
   "outputs": [],
   "source": [
    "# convert to dataframe\n",
    "\n",
    "df = pd.DataFrame(par_dict)"
   ]
  },
  {
   "cell_type": "code",
   "execution_count": 42,
   "metadata": {},
   "outputs": [
    {
     "data": {
      "text/plain": [
       "(18014, 6)"
      ]
     },
     "execution_count": 42,
     "metadata": {},
     "output_type": "execute_result"
    }
   ],
   "source": [
    "df.shape"
   ]
  },
  {
   "cell_type": "code",
   "execution_count": null,
   "metadata": {},
   "outputs": [],
   "source": []
  }
 ],
 "metadata": {
  "kernelspec": {
   "display_name": "Python 3",
   "language": "python",
   "name": "python3"
  },
  "language_info": {
   "codemirror_mode": {
    "name": "ipython",
    "version": 3
   },
   "file_extension": ".py",
   "mimetype": "text/x-python",
   "name": "python",
   "nbconvert_exporter": "python",
   "pygments_lexer": "ipython3",
   "version": "3.8.5"
  }
 },
 "nbformat": 4,
 "nbformat_minor": 4
}
