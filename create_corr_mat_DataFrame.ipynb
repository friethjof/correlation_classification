{
 "cells": [
  {
   "cell_type": "markdown",
   "metadata": {},
   "source": [
    "# Add correlation matrices to Dataframe"
   ]
  },
  {
   "cell_type": "code",
   "execution_count": 2,
   "metadata": {},
   "outputs": [],
   "source": [
    "import re\n",
    "from pathlib import Path\n",
    "\n",
    "import numpy as np\n",
    "import pandas as pd\n",
    "import matplotlib.pyplot as plt"
   ]
  },
  {
   "cell_type": "markdown",
   "metadata": {},
   "source": [
    "Load *df_parameter* DataFrame:"
   ]
  },
  {
   "cell_type": "code",
   "execution_count": 4,
   "metadata": {},
   "outputs": [
    {
     "data": {
      "text/html": [
       "<div>\n",
       "<style scoped>\n",
       "    .dataframe tbody tr th:only-of-type {\n",
       "        vertical-align: middle;\n",
       "    }\n",
       "\n",
       "    .dataframe tbody tr th {\n",
       "        vertical-align: top;\n",
       "    }\n",
       "\n",
       "    .dataframe thead th {\n",
       "        text-align: right;\n",
       "    }\n",
       "</style>\n",
       "<table border=\"1\" class=\"dataframe\">\n",
       "  <thead>\n",
       "    <tr style=\"text-align: right;\">\n",
       "      <th></th>\n",
       "      <th>gBB</th>\n",
       "      <th>gCC</th>\n",
       "      <th>gAB</th>\n",
       "      <th>gAC</th>\n",
       "      <th>gBC</th>\n",
       "      <th>path</th>\n",
       "    </tr>\n",
       "  </thead>\n",
       "  <tbody>\n",
       "    <tr>\n",
       "      <th>0</th>\n",
       "      <td>-1.0</td>\n",
       "      <td>-1.0</td>\n",
       "      <td>-1.0</td>\n",
       "      <td>-1.0</td>\n",
       "      <td>-1.0</td>\n",
       "      <td>data/batch_001/run_00001</td>\n",
       "    </tr>\n",
       "    <tr>\n",
       "      <th>1</th>\n",
       "      <td>-1.0</td>\n",
       "      <td>-1.0</td>\n",
       "      <td>-1.0</td>\n",
       "      <td>-1.0</td>\n",
       "      <td>-0.8</td>\n",
       "      <td>data/batch_001/run_00002</td>\n",
       "    </tr>\n",
       "    <tr>\n",
       "      <th>2</th>\n",
       "      <td>-1.0</td>\n",
       "      <td>-1.0</td>\n",
       "      <td>-1.0</td>\n",
       "      <td>-1.0</td>\n",
       "      <td>-0.6</td>\n",
       "      <td>data/batch_001/run_00003</td>\n",
       "    </tr>\n",
       "    <tr>\n",
       "      <th>3</th>\n",
       "      <td>-1.0</td>\n",
       "      <td>-1.0</td>\n",
       "      <td>-1.0</td>\n",
       "      <td>-1.0</td>\n",
       "      <td>-0.4</td>\n",
       "      <td>data/batch_001/run_00004</td>\n",
       "    </tr>\n",
       "    <tr>\n",
       "      <th>4</th>\n",
       "      <td>-1.0</td>\n",
       "      <td>-1.0</td>\n",
       "      <td>-1.0</td>\n",
       "      <td>-1.0</td>\n",
       "      <td>-0.2</td>\n",
       "      <td>data/batch_001/run_00005</td>\n",
       "    </tr>\n",
       "  </tbody>\n",
       "</table>\n",
       "</div>"
      ],
      "text/plain": [
       "   gBB  gCC  gAB  gAC  gBC                      path\n",
       "0 -1.0 -1.0 -1.0 -1.0 -1.0  data/batch_001/run_00001\n",
       "1 -1.0 -1.0 -1.0 -1.0 -0.8  data/batch_001/run_00002\n",
       "2 -1.0 -1.0 -1.0 -1.0 -0.6  data/batch_001/run_00003\n",
       "3 -1.0 -1.0 -1.0 -1.0 -0.4  data/batch_001/run_00004\n",
       "4 -1.0 -1.0 -1.0 -1.0 -0.2  data/batch_001/run_00005"
      ]
     },
     "execution_count": 4,
     "metadata": {},
     "output_type": "execute_result"
    }
   ],
   "source": [
    "df_par = pd.read_pickle('df_parameter.p')\n",
    "df_par.head()"
   ]
  },
  {
   "cell_type": "markdown",
   "metadata": {},
   "source": []
  },
  {
   "cell_type": "markdown",
   "metadata": {},
   "source": [
    "Load npz-files and add pixels as features\n",
    "\n",
    "1. Create new dataframe with flattened npz-matrices as rows and x1-x2 values as columns\n",
    "2. Concat parameter df and correlation-matrix df"
   ]
  },
  {
   "cell_type": "markdown",
   "metadata": {},
   "source": [
    "## First attempt: Reading all at once (not working)\n",
    "\n",
    "Load npz-files and add pixels as features\n",
    "\n",
    "1. Create new dataframe with flattened npz-matrices as rows and x1-x2 values as columns\n",
    "2. Concat parameter df and correlation-matrix df"
   ]
  },
  {
   "cell_type": "raw",
   "metadata": {},
   "source": [
    "n_grid = 200  # size of grid\n",
    "\n",
    "cols_x1x2 = [f\"x{i+1}_x{j+1}\" for i in range(n_grid) for j in range(n_grid)]\n",
    "\n",
    "corr_list = []\n",
    "for i, path_npz in enumerate(df_par.loc[:, 'path']):\n",
    "    \n",
    "    corrBC = np.load(path_npz + '/correlation_fct_BC.npz')['corrBC']\n",
    "    corrBC_flat = corrBC.flatten().astype(np.float32)  # reduce precision to improve performance\n",
    "    corr_list.append(corrBC_flat)\n",
    "\n",
    "df_npz = pd.DataFrame(corr_list, columns=cols_x1x2)"
   ]
  },
  {
   "cell_type": "markdown",
   "metadata": {},
   "source": [
    "## Second attempt: Store as pickles and concat"
   ]
  },
  {
   "cell_type": "code",
   "execution_count": null,
   "metadata": {},
   "outputs": [],
   "source": []
  }
 ],
 "metadata": {
  "kernelspec": {
   "display_name": "Python 3",
   "language": "python",
   "name": "python3"
  },
  "language_info": {
   "codemirror_mode": {
    "name": "ipython",
    "version": 3
   },
   "file_extension": ".py",
   "mimetype": "text/x-python",
   "name": "python",
   "nbconvert_exporter": "python",
   "pygments_lexer": "ipython3",
   "version": "3.8.5"
  }
 },
 "nbformat": 4,
 "nbformat_minor": 4
}
